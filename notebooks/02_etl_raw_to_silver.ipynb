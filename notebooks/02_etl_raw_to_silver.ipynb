{
  "cells": [
    {
      "cell_type": "markdown",
      "metadata": {},
      "source": [
        "# ETL: Raw → Silver\n",
        "\n",
        "Este notebook implementa o processo de ETL (Extract, Transform, Load) para transformar dados da camada Bronze (Raw) para a camada Silver.\n"
      ]
    },
    {
      "cell_type": "code",
      "execution_count": null,
      "metadata": {},
      "outputs": [],
      "source": [
        "import pandas as pd\n",
        "import numpy as np\n",
        "import psycopg2\n",
        "from sqlalchemy import create_engine\n",
        "import logging\n",
        "from datetime import datetime\n",
        "from pathlib import Path\n",
        "import warnings\n",
        "warnings.filterwarnings('ignore')\n",
        "\n",
        "# Configuração de logging\n",
        "logging.basicConfig(level=logging.INFO)\n",
        "logger = logging.getLogger(__name__)\n",
        "\n",
        "# Configurações do banco de dados\n",
        "DB_CONFIG = {\n",
        "    'host': 'localhost',\n",
        "    'port': 5432,\n",
        "    'database': 'sbd2_lakehouse',\n",
        "    'user': 'sbd2_user',\n",
        "    'password': 'sbd2_password'\n",
        "}\n",
        "\n",
        "# String de conexão SQLAlchemy\n",
        "DB_URL = f\"postgresql://{DB_CONFIG['user']}:{DB_CONFIG['password']}@{DB_CONFIG['host']}:{DB_CONFIG['port']}/{DB_CONFIG['database']}\"\n"
      ]
    },
    {
      "cell_type": "code",
      "execution_count": null,
      "metadata": {},
      "outputs": [],
      "source": [
        "# Função para conectar ao banco\n",
        "def connect_to_db():\n",
        "    \"\"\"Conecta ao banco de dados PostgreSQL\"\"\"\n",
        "    try:\n",
        "        engine = create_engine(DB_URL)\n",
        "        logger.info(\"Conexão com banco de dados estabelecida\")\n",
        "        return engine\n",
        "    except Exception as e:\n",
        "        logger.error(f\"Erro ao conectar ao banco: {e}\")\n",
        "        return None\n",
        "\n",
        "# Função para testar conexão\n",
        "def test_connection():\n",
        "    \"\"\"Testa a conexão com o banco\"\"\"\n",
        "    engine = connect_to_db()\n",
        "    if engine:\n",
        "        try:\n",
        "            with engine.connect() as conn:\n",
        "                result = conn.execute(\"SELECT 1\")\n",
        "                logger.info(\"Conexão testada com sucesso\")\n",
        "                return True\n",
        "        except Exception as e:\n",
        "            logger.error(f\"Erro ao testar conexão: {e}\")\n",
        "            return False\n",
        "    return False\n",
        "\n",
        "# Teste da conexão\n",
        "test_connection()\n"
      ]
    }
  ],
  "metadata": {
    "language_info": {
      "name": "python"
    }
  },
  "nbformat": 4,
  "nbformat_minor": 2
}
