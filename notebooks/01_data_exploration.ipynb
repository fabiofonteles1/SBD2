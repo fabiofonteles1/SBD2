{
  "cells": [
    {
      "cell_type": "markdown",
      "metadata": {},
      "source": [
        "# Análise Exploratória dos Dados - Camada Bronze\n",
        "\n",
        "Este notebook realiza a análise inicial dos dados brutos (camada Bronze) sem tratamento.\n"
      ]
    },
    {
      "cell_type": "code",
      "execution_count": null,
      "metadata": {},
      "outputs": [],
      "source": [
        "import pandas as pd\n",
        "import numpy as np\n",
        "import matplotlib.pyplot as plt\n",
        "import seaborn as sns\n",
        "from pathlib import Path\n",
        "import warnings\n",
        "warnings.filterwarnings('ignore')\n",
        "\n",
        "# Configuração para exibir todas as colunas\n",
        "pd.set_option('display.max_columns', None)\n",
        "pd.set_option('display.width', None)\n",
        "pd.set_option('display.max_colwidth', None)\n"
      ]
    },
    {
      "cell_type": "code",
      "execution_count": null,
      "metadata": {},
      "outputs": [],
      "source": [
        "# Caminho para o arquivo de dados\n",
        "data_path = Path('../raw/train.csv')\n",
        "print(f\"Arquivo existe: {data_path.exists()}\")\n",
        "print(f\"Tamanho do arquivo: {data_path.stat().st_size / (1024*1024*1024):.2f} GB\")\n"
      ]
    },
    {
      "cell_type": "code",
      "execution_count": null,
      "metadata": {},
      "outputs": [],
      "source": [
        "# Leitura das primeiras linhas para entender a estrutura\n",
        "print(\"=== PRIMEIRAS 5 LINHAS ===\")\n",
        "df_sample = pd.read_csv(data_path, nrows=5)\n",
        "print(df_sample)\n",
        "print(f\"\\nNúmero de colunas: {len(df_sample.columns)}\")\n",
        "print(f\"\\nNomes das colunas: {list(df_sample.columns)}\")\n"
      ]
    }
  ],
  "metadata": {
    "language_info": {
      "name": "python"
    }
  },
  "nbformat": 4,
  "nbformat_minor": 2
}
