{
  "cells": [
    {
      "cell_type": "markdown",
      "metadata": {},
      "source": [
        "# Validação do Lakehouse\n",
        "\n",
        "Este notebook valida se o lakehouse foi populado corretamente e apresenta as tabelas Silver com dados transformados.\n"
      ]
    },
    {
      "cell_type": "code",
      "execution_count": null,
      "metadata": {},
      "outputs": [],
      "source": [
        "import pandas as pd\n",
        "import psycopg2\n",
        "from sqlalchemy import create_engine\n",
        "import matplotlib.pyplot as plt\n",
        "import seaborn as sns\n",
        "from datetime import datetime\n",
        "import warnings\n",
        "warnings.filterwarnings('ignore')\n",
        "\n",
        "# Configurações do banco de dados\n",
        "DB_CONFIG = {\n",
        "    'host': 'localhost',\n",
        "    'port': 5432,\n",
        "    'database': 'sbd2_lakehouse',\n",
        "    'user': 'sbd2_user',\n",
        "    'password': 'sbd2_password'\n",
        "}\n",
        "\n",
        "# String de conexão SQLAlchemy\n",
        "DB_URL = f\"postgresql://{DB_CONFIG['user']}:{DB_CONFIG['password']}@{DB_CONFIG['host']}:{DB_CONFIG['port']}/{DB_CONFIG['database']}\"\n",
        "\n",
        "print(\"=== CONFIGURAÇÃO DE CONEXÃO ===\")\n",
        "print(f\"Host: {DB_CONFIG['host']}\")\n",
        "print(f\"Port: {DB_CONFIG['port']}\")\n",
        "print(f\"Database: {DB_CONFIG['database']}\")\n",
        "print(f\"User: {DB_CONFIG['user']}\")\n"
      ]
    }
  ],
  "metadata": {
    "language_info": {
      "name": "python"
    }
  },
  "nbformat": 4,
  "nbformat_minor": 2
}
